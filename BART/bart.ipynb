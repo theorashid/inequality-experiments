{
 "nbformat": 4,
 "nbformat_minor": 2,
 "metadata": {
  "language_info": {
   "name": "python",
   "codemirror_mode": {
    "name": "ipython",
    "version": 3
   },
   "version": "3.8.2-final"
  },
  "orig_nbformat": 2,
  "file_extension": ".py",
  "mimetype": "text/x-python",
  "name": "python",
  "npconvert_exporter": "python",
  "pygments_lexer": "ipython3",
  "version": 3,
  "kernelspec": {
   "name": "python38264bitiexpcondae811882733694c1d94742e004f93530d",
   "display_name": "Python 3.8.2 64-bit ('i_exp': conda)"
  }
 },
 "cells": [
  {
   "cell_type": "markdown",
   "metadata": {},
   "source": [
    "<h1> BART for inequalities </h1>"
   ]
  },
  {
   "cell_type": "code",
   "execution_count": 1,
   "metadata": {},
   "outputs": [],
   "source": [
    "import os\n",
    "\n",
    "import numpy as np\n",
    "import pandas as pd\n",
    "from matplotlib import pyplot as plt"
   ]
  },
  {
   "cell_type": "markdown",
   "metadata": {},
   "source": [
    "<h2> Preprocessing </h2>"
   ]
  },
  {
   "cell_type": "markdown",
   "metadata": {},
   "source": [
    "Life expectancy for all countries from the World Bank"
   ]
  },
  {
   "cell_type": "code",
   "execution_count": 2,
   "metadata": {},
   "outputs": [
    {
     "output_type": "execute_result",
     "data": {
      "text/plain": "     Country Name  Life Expectancy 2017\n0           Aruba             76.010000\n1     Afghanistan             64.130000\n2          Angola             60.379000\n3         Albania             78.333000\n5      Arab World             71.622526\n..            ...                   ...\n259        Kosovo             71.946341\n260   Yemen, Rep.             66.086000\n261  South Africa             63.538000\n262        Zambia             63.043000\n263      Zimbabwe             60.812000\n\n[245 rows x 2 columns]",
      "text/html": "<div>\n<style scoped>\n    .dataframe tbody tr th:only-of-type {\n        vertical-align: middle;\n    }\n\n    .dataframe tbody tr th {\n        vertical-align: top;\n    }\n\n    .dataframe thead th {\n        text-align: right;\n    }\n</style>\n<table border=\"1\" class=\"dataframe\">\n  <thead>\n    <tr style=\"text-align: right;\">\n      <th></th>\n      <th>Country Name</th>\n      <th>Life Expectancy 2017</th>\n    </tr>\n  </thead>\n  <tbody>\n    <tr>\n      <th>0</th>\n      <td>Aruba</td>\n      <td>76.010000</td>\n    </tr>\n    <tr>\n      <th>1</th>\n      <td>Afghanistan</td>\n      <td>64.130000</td>\n    </tr>\n    <tr>\n      <th>2</th>\n      <td>Angola</td>\n      <td>60.379000</td>\n    </tr>\n    <tr>\n      <th>3</th>\n      <td>Albania</td>\n      <td>78.333000</td>\n    </tr>\n    <tr>\n      <th>5</th>\n      <td>Arab World</td>\n      <td>71.622526</td>\n    </tr>\n    <tr>\n      <th>...</th>\n      <td>...</td>\n      <td>...</td>\n    </tr>\n    <tr>\n      <th>259</th>\n      <td>Kosovo</td>\n      <td>71.946341</td>\n    </tr>\n    <tr>\n      <th>260</th>\n      <td>Yemen, Rep.</td>\n      <td>66.086000</td>\n    </tr>\n    <tr>\n      <th>261</th>\n      <td>South Africa</td>\n      <td>63.538000</td>\n    </tr>\n    <tr>\n      <th>262</th>\n      <td>Zambia</td>\n      <td>63.043000</td>\n    </tr>\n    <tr>\n      <th>263</th>\n      <td>Zimbabwe</td>\n      <td>60.812000</td>\n    </tr>\n  </tbody>\n</table>\n<p>245 rows × 2 columns</p>\n</div>"
     },
     "metadata": {},
     "execution_count": 2
    }
   ],
   "source": [
    "life_exp_df = pd.read_csv(\"wb_life_expectancy.csv\", skiprows = 4)\n",
    "life_exp_df = life_exp_df[[\"Country Name\", \"2017\"]]\n",
    "life_exp_df.rename(columns = {\"2017\":\"Life Expectancy 2017\"}, inplace=True)\n",
    "life_exp_df = life_exp_df.dropna()\n",
    "life_exp_df"
   ]
  },
  {
   "cell_type": "markdown",
   "metadata": {},
   "source": [
    "Income distribution for all countries and world regions from WID.world. The distribution is split into bottom 50 percent, 50-90 percent (middle class), top 10 percent and the top 1 percent share"
   ]
  },
  {
   "cell_type": "code",
   "execution_count": 3,
   "metadata": {},
   "outputs": [
    {
     "output_type": "execute_result",
     "data": {
      "text/plain": "percentile         p0p50    p50p90   p90p100   p99p100\nRegion Name                                           \nAfrica          0.088212  0.368794  0.542994  0.190221\nAlbania         0.209400  0.470900  0.319700  0.082100\nAlgeria         0.207066  0.420077  0.372856  0.097033\nAngola          0.130631  0.380834  0.488535  0.151751\nAustria         0.234300  0.449100  0.316600  0.092700\n...                  ...       ...       ...       ...\nUnited Kingdom  0.206100  0.439300  0.354600  0.126100\nWestern Africa  0.116490  0.375802  0.507708  0.164721\nZambia          0.073127  0.311930  0.614943  0.230787\nZanzibar        0.154000  0.365000  0.481000  0.161700\nZimbabwe        0.128644  0.364170  0.507186  0.172057\n\n[100 rows x 4 columns]",
      "text/html": "<div>\n<style scoped>\n    .dataframe tbody tr th:only-of-type {\n        vertical-align: middle;\n    }\n\n    .dataframe tbody tr th {\n        vertical-align: top;\n    }\n\n    .dataframe thead th {\n        text-align: right;\n    }\n</style>\n<table border=\"1\" class=\"dataframe\">\n  <thead>\n    <tr style=\"text-align: right;\">\n      <th>percentile</th>\n      <th>p0p50</th>\n      <th>p50p90</th>\n      <th>p90p100</th>\n      <th>p99p100</th>\n    </tr>\n    <tr>\n      <th>Region Name</th>\n      <th></th>\n      <th></th>\n      <th></th>\n      <th></th>\n    </tr>\n  </thead>\n  <tbody>\n    <tr>\n      <th>Africa</th>\n      <td>0.088212</td>\n      <td>0.368794</td>\n      <td>0.542994</td>\n      <td>0.190221</td>\n    </tr>\n    <tr>\n      <th>Albania</th>\n      <td>0.209400</td>\n      <td>0.470900</td>\n      <td>0.319700</td>\n      <td>0.082100</td>\n    </tr>\n    <tr>\n      <th>Algeria</th>\n      <td>0.207066</td>\n      <td>0.420077</td>\n      <td>0.372856</td>\n      <td>0.097033</td>\n    </tr>\n    <tr>\n      <th>Angola</th>\n      <td>0.130631</td>\n      <td>0.380834</td>\n      <td>0.488535</td>\n      <td>0.151751</td>\n    </tr>\n    <tr>\n      <th>Austria</th>\n      <td>0.234300</td>\n      <td>0.449100</td>\n      <td>0.316600</td>\n      <td>0.092700</td>\n    </tr>\n    <tr>\n      <th>...</th>\n      <td>...</td>\n      <td>...</td>\n      <td>...</td>\n      <td>...</td>\n    </tr>\n    <tr>\n      <th>United Kingdom</th>\n      <td>0.206100</td>\n      <td>0.439300</td>\n      <td>0.354600</td>\n      <td>0.126100</td>\n    </tr>\n    <tr>\n      <th>Western Africa</th>\n      <td>0.116490</td>\n      <td>0.375802</td>\n      <td>0.507708</td>\n      <td>0.164721</td>\n    </tr>\n    <tr>\n      <th>Zambia</th>\n      <td>0.073127</td>\n      <td>0.311930</td>\n      <td>0.614943</td>\n      <td>0.230787</td>\n    </tr>\n    <tr>\n      <th>Zanzibar</th>\n      <td>0.154000</td>\n      <td>0.365000</td>\n      <td>0.481000</td>\n      <td>0.161700</td>\n    </tr>\n    <tr>\n      <th>Zimbabwe</th>\n      <td>0.128644</td>\n      <td>0.364170</td>\n      <td>0.507186</td>\n      <td>0.172057</td>\n    </tr>\n  </tbody>\n</table>\n<p>100 rows × 4 columns</p>\n</div>"
     },
     "metadata": {},
     "execution_count": 3
    }
   ],
   "source": [
    "income_df = pd.read_csv(\"wid_income_dist.csv\", skiprows = 1, sep = \";\", header = None)\n",
    "income_df = income_df[[0, 2, 4]]\n",
    "income_df.columns = [\"Region Name\", \"percentile\", \"Income Share\"]\n",
    "income_df = income_df.dropna() # Only keep regions with all 4 parts of the income distribution\n",
    "income_df = income_df.pivot(index='Region Name', columns='percentile')['Income Share'] # reshape, col per share\n",
    "income_df"
   ]
  },
  {
   "cell_type": "markdown",
   "metadata": {},
   "source": [
    "Merge the life expectancy and income dataframes on country"
   ]
  },
  {
   "cell_type": "code",
   "execution_count": 4,
   "metadata": {},
   "outputs": [
    {
     "output_type": "execute_result",
     "data": {
      "text/plain": "    Country Name  Life Expectancy 2017     p0p50    p50p90   p90p100   p99p100\n0         Angola             60.379000  0.130631  0.380834  0.488535  0.151751\n1        Albania             78.333000  0.209400  0.470900  0.319700  0.082100\n2        Austria             81.641463  0.234300  0.449100  0.316600  0.092700\n3        Burundi             60.898000  0.151344  0.371082  0.477574  0.145485\n4        Belgium             81.439024  0.205900  0.480100  0.313900  0.077700\n..           ...                   ...       ...       ...       ...       ...\n79      Tanzania             64.479000  0.153972  0.365047  0.480980  0.161714\n80        Uganda             62.516000  0.131229  0.353945  0.514826  0.168541\n81  South Africa             63.538000  0.062700  0.286500  0.650800  0.192100\n82        Zambia             63.043000  0.073127  0.311930  0.614943  0.230787\n83      Zimbabwe             60.812000  0.128644  0.364170  0.507186  0.172057\n\n[84 rows x 6 columns]",
      "text/html": "<div>\n<style scoped>\n    .dataframe tbody tr th:only-of-type {\n        vertical-align: middle;\n    }\n\n    .dataframe tbody tr th {\n        vertical-align: top;\n    }\n\n    .dataframe thead th {\n        text-align: right;\n    }\n</style>\n<table border=\"1\" class=\"dataframe\">\n  <thead>\n    <tr style=\"text-align: right;\">\n      <th></th>\n      <th>Country Name</th>\n      <th>Life Expectancy 2017</th>\n      <th>p0p50</th>\n      <th>p50p90</th>\n      <th>p90p100</th>\n      <th>p99p100</th>\n    </tr>\n  </thead>\n  <tbody>\n    <tr>\n      <th>0</th>\n      <td>Angola</td>\n      <td>60.379000</td>\n      <td>0.130631</td>\n      <td>0.380834</td>\n      <td>0.488535</td>\n      <td>0.151751</td>\n    </tr>\n    <tr>\n      <th>1</th>\n      <td>Albania</td>\n      <td>78.333000</td>\n      <td>0.209400</td>\n      <td>0.470900</td>\n      <td>0.319700</td>\n      <td>0.082100</td>\n    </tr>\n    <tr>\n      <th>2</th>\n      <td>Austria</td>\n      <td>81.641463</td>\n      <td>0.234300</td>\n      <td>0.449100</td>\n      <td>0.316600</td>\n      <td>0.092700</td>\n    </tr>\n    <tr>\n      <th>3</th>\n      <td>Burundi</td>\n      <td>60.898000</td>\n      <td>0.151344</td>\n      <td>0.371082</td>\n      <td>0.477574</td>\n      <td>0.145485</td>\n    </tr>\n    <tr>\n      <th>4</th>\n      <td>Belgium</td>\n      <td>81.439024</td>\n      <td>0.205900</td>\n      <td>0.480100</td>\n      <td>0.313900</td>\n      <td>0.077700</td>\n    </tr>\n    <tr>\n      <th>...</th>\n      <td>...</td>\n      <td>...</td>\n      <td>...</td>\n      <td>...</td>\n      <td>...</td>\n      <td>...</td>\n    </tr>\n    <tr>\n      <th>79</th>\n      <td>Tanzania</td>\n      <td>64.479000</td>\n      <td>0.153972</td>\n      <td>0.365047</td>\n      <td>0.480980</td>\n      <td>0.161714</td>\n    </tr>\n    <tr>\n      <th>80</th>\n      <td>Uganda</td>\n      <td>62.516000</td>\n      <td>0.131229</td>\n      <td>0.353945</td>\n      <td>0.514826</td>\n      <td>0.168541</td>\n    </tr>\n    <tr>\n      <th>81</th>\n      <td>South Africa</td>\n      <td>63.538000</td>\n      <td>0.062700</td>\n      <td>0.286500</td>\n      <td>0.650800</td>\n      <td>0.192100</td>\n    </tr>\n    <tr>\n      <th>82</th>\n      <td>Zambia</td>\n      <td>63.043000</td>\n      <td>0.073127</td>\n      <td>0.311930</td>\n      <td>0.614943</td>\n      <td>0.230787</td>\n    </tr>\n    <tr>\n      <th>83</th>\n      <td>Zimbabwe</td>\n      <td>60.812000</td>\n      <td>0.128644</td>\n      <td>0.364170</td>\n      <td>0.507186</td>\n      <td>0.172057</td>\n    </tr>\n  </tbody>\n</table>\n<p>84 rows × 6 columns</p>\n</div>"
     },
     "metadata": {},
     "execution_count": 4
    }
   ],
   "source": [
    "le_income_df = life_exp_df.merge(income_df, left_on = \"Country Name\", right_on = \"Region Name\")\n",
    "le_income_df"
   ]
  },
  {
   "cell_type": "code",
   "execution_count": 5,
   "metadata": {},
   "outputs": [],
   "source": [
    "X = le_income_df[[\"p0p50\", \"p50p90\", \"p90p100\", \"p99p100\"]]\n",
    "y = le_income_df[[\"Life Expectancy 2017\"]]"
   ]
  },
  {
   "cell_type": "markdown",
   "metadata": {},
   "source": [
    "<h2> Random Forest implementation </h2>"
   ]
  },
  {
   "cell_type": "code",
   "execution_count": 6,
   "metadata": {},
   "outputs": [],
   "source": [
    "from sklearn.ensemble import RandomForestRegressor\n",
    "from sklearn.pipeline import Pipeline\n",
    "rf_pipeline = Pipeline(steps=[(\"model\", RandomForestRegressor(n_estimators = 100, random_state = 0))\n",
    "                             ])"
   ]
  },
  {
   "cell_type": "code",
   "execution_count": 7,
   "metadata": {},
   "outputs": [
    {
     "output_type": "stream",
     "name": "stdout",
     "text": "MAE scores:\n [3.88485495 2.91733043 5.3309053  3.43702363 4.52441894]\nAverage MAE score (across experiments):\n4.018906650270395\n"
    }
   ],
   "source": [
    "from sklearn.model_selection import cross_val_score\n",
    "# Multiply by -1 since sklearn calculates *negative* MAE\n",
    "scores = -1 * cross_val_score(rf_pipeline, X, y,\n",
    "                              cv = 5,\n",
    "                              scoring = \"neg_mean_absolute_error\")\n",
    "\n",
    "print(\"MAE scores:\\n\", scores)\n",
    "print(\"Average MAE score (across experiments):\")\n",
    "print(scores.mean())"
   ]
  },
  {
   "cell_type": "code",
   "execution_count": 8,
   "metadata": {},
   "outputs": [
    {
     "output_type": "execute_result",
     "data": {
      "text/plain": "{'model__n_estimators': 45}"
     },
     "metadata": {},
     "execution_count": 8
    }
   ],
   "source": [
    "from sklearn.model_selection import GridSearchCV\n",
    "parameters = {\"model__n_estimators\": np.arange(5, 85 + 1, 20)}\n",
    "grid_search = GridSearchCV(rf_pipeline, parameters)\n",
    "grid_search.fit(X, y)\n",
    "grid_search.best_params_"
   ]
  },
  {
   "cell_type": "code",
   "execution_count": 9,
   "metadata": {},
   "outputs": [
    {
     "output_type": "stream",
     "name": "stdout",
     "text": "MAE scores:\n [3.76447217 2.82785205 5.27005592 3.46856951 4.47042022]\nAverage MAE score (across experiments):\n3.9602739738883015\n"
    }
   ],
   "source": [
    "rf_pipeline = Pipeline(steps=[(\"model\", RandomForestRegressor(n_estimators = grid_search.best_params_[\"model__n_estimators\"], random_state = 0))\n",
    "                             ])\n",
    "                             \n",
    "scores = -1 * cross_val_score(rf_pipeline, X, y,\n",
    "                              cv = 5,\n",
    "                              scoring = \"neg_mean_absolute_error\")\n",
    "\n",
    "print(\"MAE scores:\\n\", scores)\n",
    "print(\"Average MAE score (across experiments):\")\n",
    "print(scores.mean())"
   ]
  },
  {
   "cell_type": "markdown",
   "metadata": {},
   "source": [
    "<h2> bartpy implementation </h2>"
   ]
  },
  {
   "cell_type": "code",
   "execution_count": 32,
   "metadata": {},
   "outputs": [
    {
     "output_type": "execute_result",
     "data": {
      "text/plain": "     p99p100\n0   0.151751\n1   0.082100\n2   0.092700\n3   0.145485\n4   0.077700\n..       ...\n79  0.161714\n80  0.168541\n81  0.192100\n82  0.230787\n83  0.172057\n\n[84 rows x 1 columns]",
      "text/html": "<div>\n<style scoped>\n    .dataframe tbody tr th:only-of-type {\n        vertical-align: middle;\n    }\n\n    .dataframe tbody tr th {\n        vertical-align: top;\n    }\n\n    .dataframe thead th {\n        text-align: right;\n    }\n</style>\n<table border=\"1\" class=\"dataframe\">\n  <thead>\n    <tr style=\"text-align: right;\">\n      <th></th>\n      <th>p99p100</th>\n    </tr>\n  </thead>\n  <tbody>\n    <tr>\n      <th>0</th>\n      <td>0.151751</td>\n    </tr>\n    <tr>\n      <th>1</th>\n      <td>0.082100</td>\n    </tr>\n    <tr>\n      <th>2</th>\n      <td>0.092700</td>\n    </tr>\n    <tr>\n      <th>3</th>\n      <td>0.145485</td>\n    </tr>\n    <tr>\n      <th>4</th>\n      <td>0.077700</td>\n    </tr>\n    <tr>\n      <th>...</th>\n      <td>...</td>\n    </tr>\n    <tr>\n      <th>79</th>\n      <td>0.161714</td>\n    </tr>\n    <tr>\n      <th>80</th>\n      <td>0.168541</td>\n    </tr>\n    <tr>\n      <th>81</th>\n      <td>0.192100</td>\n    </tr>\n    <tr>\n      <th>82</th>\n      <td>0.230787</td>\n    </tr>\n    <tr>\n      <th>83</th>\n      <td>0.172057</td>\n    </tr>\n  </tbody>\n</table>\n<p>84 rows × 1 columns</p>\n</div>"
     },
     "metadata": {},
     "execution_count": 32
    }
   ],
   "source": [
    "le_income_df[[\"p99p100\"]].reset_index(drop=True)"
   ]
  },
  {
   "cell_type": "code",
   "execution_count": 10,
   "metadata": {},
   "outputs": [],
   "source": [
    "X = le_income_df[[\"p0p50\", \"p50p90\", \"p90p100\", \"p90p100\"]]\n",
    "y = le_income_df[\"Life Expectancy 2017\"].values"
   ]
  },
  {
   "cell_type": "code",
   "execution_count": 13,
   "metadata": {},
   "outputs": [],
   "source": [
    "bart_pipeline = Pipeline(steps=[(\"model\", SklearnModel(n_burn = 100, n_chains = 1, n_jobs = 1, n_samples = 1000, n_trees = 10))\n",
    "                             ])"
   ]
  },
  {
   "cell_type": "code",
   "execution_count": 17,
   "metadata": {},
   "outputs": [],
   "source": [
    "from bartpy.sklearnmodel import SklearnModel"
   ]
  },
  {
   "cell_type": "code",
   "execution_count": 15,
   "metadata": {
    "tags": [
     "outputPrepend",
     "outputPrepend",
     "outputPrepend",
     "outputPrepend",
     "outputPrepend"
    ]
   },
   "outputs": [
    {
     "output_type": "stream",
     "name": "stderr",
     "text": "20%|██        | 20/100 [00:00<00:00, 198.25it/s]Starting burn\n100%|██████████| 100/100 [00:00<00:00, 250.50it/s]\n  3%|▎         | 32/1000 [00:00<00:03, 318.39it/s]Starting sampling\n100%|██████████| 1000/1000 [00:03<00:00, 269.34it/s]\n 14%|█▍        | 14/100 [00:00<00:00, 137.91it/s]Starting burn\n100%|██████████| 100/100 [00:00<00:00, 255.21it/s]\n  4%|▎         | 35/1000 [00:00<00:02, 345.71it/s]Starting sampling\n100%|██████████| 1000/1000 [00:02<00:00, 347.34it/s]\n 40%|████      | 40/100 [00:00<00:00, 392.00it/s]Starting burn\n100%|██████████| 100/100 [00:00<00:00, 388.32it/s]\n  4%|▍         | 39/1000 [00:00<00:02, 382.55it/s]Starting sampling\n100%|██████████| 1000/1000 [00:02<00:00, 350.40it/s]\n 20%|██        | 20/100 [00:00<00:00, 199.89it/s]Starting burn\n100%|██████████| 100/100 [00:00<00:00, 247.12it/s]\n  4%|▎         | 35/1000 [00:00<01:13, 13.15it/s]Starting sampling\n100%|██████████| 1000/1000 [00:02<00:00, 336.87it/s]\n 31%|███       | 31/100 [00:00<00:00, 301.37it/s]Starting burn\n100%|██████████| 100/100 [00:00<00:00, 345.25it/s]\n  8%|▊         | 83/1000 [00:00<00:02, 403.41it/s]Starting sampling\n100%|██████████| 1000/1000 [00:02<00:00, 391.82it/s]\n  8%|▊         | 8/100 [00:00<00:01, 73.58it/s]Starting burn\n100%|██████████| 100/100 [00:01<00:00, 83.18it/s]\n  1%|          | 8/1000 [00:00<00:13, 76.15it/s]Starting sampling\n100%|██████████| 1000/1000 [00:11<00:00, 83.45it/s]\n  9%|▉         | 9/100 [00:00<00:01, 83.00it/s]Starting burn\n100%|██████████| 100/100 [00:01<00:00, 82.09it/s]\n  1%|          | 8/1000 [00:00<00:12, 77.11it/s]Starting sampling\n100%|██████████| 1000/1000 [00:12<00:00, 79.44it/s]\n  8%|▊         | 8/100 [00:00<00:01, 76.87it/s]Starting burn\n100%|██████████| 100/100 [00:01<00:00, 75.64it/s]\n  2%|▏         | 16/1000 [00:00<00:12, 77.63it/s]Starting sampling\n100%|██████████| 1000/1000 [00:12<00:00, 79.13it/s]\n  7%|▋         | 7/100 [00:00<00:01, 64.94it/s]Starting burn\n100%|██████████| 100/100 [00:01<00:00, 81.37it/s]\n  1%|          | 8/1000 [00:00<00:13, 73.37it/s]Starting sampling\n100%|██████████| 1000/1000 [00:12<00:00, 76.94it/s]\n  7%|▋         | 7/100 [00:00<00:01, 69.09it/s]Starting burn\n100%|██████████| 100/100 [00:01<00:00, 80.84it/s]\n  1%|          | 8/1000 [00:00<00:13, 76.07it/s]Starting sampling\n100%|██████████| 1000/1000 [00:12<00:00, 79.04it/s]\n  4%|▍         | 4/100 [00:00<00:02, 37.91it/s]Starting burn\n100%|██████████| 100/100 [00:02<00:00, 42.68it/s]\n  0%|          | 4/1000 [00:00<00:26, 38.17it/s]Starting sampling\n100%|██████████| 1000/1000 [00:26<00:00, 37.77it/s]\n  5%|▌         | 5/100 [00:00<00:02, 45.12it/s]Starting burn\n100%|██████████| 100/100 [00:02<00:00, 37.63it/s]\n  0%|          | 4/1000 [00:00<00:29, 33.42it/s]Starting sampling\n100%|██████████| 1000/1000 [00:22<00:00, 44.08it/s]\n  5%|▌         | 5/100 [00:00<00:02, 43.30it/s]Starting burn\n100%|██████████| 100/100 [00:02<00:00, 40.64it/s]\n  0%|          | 5/1000 [00:00<00:22, 44.95it/s]Starting sampling\n100%|██████████| 1000/1000 [00:25<00:00, 38.81it/s]\n  5%|▌         | 5/100 [00:00<00:02, 46.59it/s]Starting burn\n100%|██████████| 100/100 [00:02<00:00, 48.51it/s]\n  1%|          | 6/1000 [00:00<00:19, 51.12it/s]Starting sampling\n100%|██████████| 1000/1000 [00:22<00:00, 43.71it/s]\n  5%|▌         | 5/100 [00:00<00:01, 48.16it/s]Starting burn\n100%|██████████| 100/100 [00:02<00:00, 44.29it/s]\n  0%|          | 5/1000 [00:00<00:24, 40.96it/s]Starting sampling\n100%|██████████| 1000/1000 [00:23<00:00, 42.62it/s]\n  4%|▍         | 4/100 [00:00<00:02, 32.78it/s]Starting burn\n100%|██████████| 100/100 [00:03<00:00, 25.67it/s]\n  0%|          | 4/1000 [00:00<00:28, 35.02it/s]Starting sampling\n100%|██████████| 1000/1000 [00:38<00:00, 26.30it/s]\n  1%|          | 1/100 [00:00<00:12,  7.62it/s]Starting burn\n100%|██████████| 100/100 [00:05<00:00, 16.85it/s]\n  0%|          | 2/1000 [00:00<00:52, 19.06it/s]Starting sampling\n100%|██████████| 1000/1000 [00:38<00:00, 26.26it/s]\n  4%|▍         | 4/100 [00:00<00:02, 32.05it/s]Starting burn\n100%|██████████| 100/100 [00:03<00:00, 26.97it/s]\n  0%|          | 2/1000 [00:00<00:58, 17.20it/s]Starting sampling\n100%|██████████| 1000/1000 [00:35<00:00, 28.31it/s]\n  3%|▎         | 3/100 [00:00<00:03, 29.34it/s]Starting burn\n100%|██████████| 100/100 [00:04<00:00, 25.00it/s]\n  0%|          | 4/1000 [00:00<00:32, 30.88it/s]Starting sampling\n100%|██████████| 1000/1000 [00:36<00:00, 27.33it/s]\n  3%|▎         | 3/100 [00:00<00:03, 28.72it/s]Starting burn\n100%|██████████| 100/100 [00:03<00:00, 29.83it/s]\n  0%|          | 2/1000 [00:00<01:12, 13.80it/s]Starting sampling\n100%|██████████| 1000/1000 [00:44<00:00, 22.31it/s]\n  3%|▎         | 3/100 [00:00<00:03, 24.77it/s]Starting burn\n100%|██████████| 100/100 [00:03<00:00, 25.52it/s]\n  0%|          | 3/1000 [00:00<00:40, 24.88it/s]Starting sampling\n100%|██████████| 1000/1000 [00:46<00:00, 21.47it/s]\n  2%|▏         | 2/100 [00:00<00:05, 18.60it/s]Starting burn\n100%|██████████| 100/100 [00:06<00:00, 15.61it/s]\n  0%|          | 2/1000 [00:00<00:52, 18.91it/s]Starting sampling\n100%|██████████| 1000/1000 [00:45<00:00, 21.76it/s]\n  2%|▏         | 2/100 [00:00<00:06, 15.68it/s]Starting burn\n100%|██████████| 100/100 [00:04<00:00, 20.86it/s]\n  0%|          | 2/1000 [00:00<00:53, 18.57it/s]Starting sampling\n100%|██████████| 1000/1000 [00:55<00:00, 17.94it/s]\n  2%|▏         | 2/100 [00:00<00:05, 16.86it/s]Starting burn\n100%|██████████| 100/100 [00:06<00:00, 15.29it/s]\n  0%|          | 2/1000 [00:00<00:52, 19.01it/s]Starting sampling\n100%|██████████| 1000/1000 [00:41<00:00, 23.82it/s]\n  3%|▎         | 3/100 [00:00<00:04, 23.90it/s]Starting burn\n100%|██████████| 100/100 [00:04<00:00, 24.81it/s]\n  0%|          | 3/1000 [00:00<00:36, 27.33it/s]Starting sampling\n100%|██████████| 1000/1000 [00:44<00:00, 22.67it/s]\n  3%|▎         | 3/100 [00:00<00:03, 24.35it/s]Starting burn\n100%|██████████| 100/100 [00:03<00:00, 25.01it/s]\n  0%|          | 3/1000 [00:00<00:38, 25.63it/s]Starting sampling\n100%|██████████| 1000/1000 [00:40<00:00, 24.68it/s]\n"
    },
    {
     "output_type": "execute_result",
     "data": {
      "text/plain": "{'model__n_trees': 85}"
     },
     "metadata": {},
     "execution_count": 15
    }
   ],
   "source": [
    "parameters = {\"model__n_trees\": np.arange(5, 85 + 1, 20)}\n",
    "grid_search = GridSearchCV(bart_pipeline, parameters)\n",
    "grid_search.fit(X, y)\n",
    "grid_search.best_params_"
   ]
  },
  {
   "cell_type": "code",
   "execution_count": 16,
   "metadata": {},
   "outputs": [
    {
     "output_type": "stream",
     "name": "stderr",
     "text": "2%|▏         | 2/100 [00:00<00:08, 11.89it/s]Starting burn\n100%|██████████| 100/100 [00:05<00:00, 19.23it/s]\n  0%|          | 2/1000 [00:00<00:59, 16.86it/s]Starting sampling\n100%|██████████| 1000/1000 [01:07<00:00, 14.86it/s]\n  2%|▏         | 2/100 [00:00<00:06, 16.11it/s]Starting burn\n100%|██████████| 100/100 [00:04<00:00, 21.70it/s]\n  0%|          | 2/1000 [00:00<00:52, 19.02it/s]Starting sampling\n100%|██████████| 1000/1000 [00:56<00:00, 17.76it/s]\n  2%|▏         | 2/100 [00:00<00:04, 19.66it/s]Starting burn\n100%|██████████| 100/100 [00:04<00:00, 24.11it/s]\n  0%|          | 2/1000 [00:00<00:50, 19.78it/s]Starting sampling\n100%|██████████| 1000/1000 [00:45<00:00, 21.77it/s]\n  2%|▏         | 2/100 [00:00<00:06, 14.04it/s]Starting burn\n100%|██████████| 100/100 [00:05<00:00, 19.49it/s]\n  0%|          | 3/1000 [00:00<00:47, 21.02it/s]Starting sampling\n100%|██████████| 1000/1000 [00:49<00:00, 20.38it/s]\n  2%|▏         | 2/100 [00:00<00:05, 19.46it/s]Starting burn\n100%|██████████| 100/100 [00:04<00:00, 23.60it/s]\n  0%|          | 3/1000 [00:00<00:42, 23.70it/s]Starting sampling\n100%|██████████| 1000/1000 [00:59<00:00, 16.70it/s]\nMAE scores:\n [3.67273052 2.56707642 5.06297515 3.98376936 5.12356429]\nAverage MAE score (across experiments):\n4.082023148315182\n"
    }
   ],
   "source": [
    "bart_pipeline = Pipeline(steps=[(\"model\", SklearnModel(n_burn = 100, n_chains = 1, n_jobs = 1, n_samples = 1000, n_trees = grid_search.best_params_[\"model__n_trees\"]))\n",
    "                               ])\n",
    "scores = -1 * cross_val_score(bart_pipeline, X, y,\n",
    "                              cv = 5,\n",
    "                              scoring = \"neg_mean_absolute_error\")\n",
    "                              \n",
    "print(\"MAE scores:\\n\", scores)\n",
    "print(\"Average MAE score (across experiments):\")\n",
    "print(scores.mean())"
   ]
  },
  {
   "cell_type": "markdown",
   "metadata": {},
   "source": [
    "<h2> Predictions </h2>"
   ]
  },
  {
   "cell_type": "code",
   "execution_count": 19,
   "metadata": {},
   "outputs": [],
   "source": [
    "rf_pipeline.fit(X, y)\n",
    "y_pred_rf = rf_pipeline.predict(X)\n",
    "le_income_df[\"Random Forest LE\"] = y_pred_rf"
   ]
  },
  {
   "cell_type": "code",
   "execution_count": 20,
   "metadata": {},
   "outputs": [
    {
     "output_type": "stream",
     "name": "stderr",
     "text": "0%|          | 0/100 [00:00<?, ?it/s]Starting burn\n100%|██████████| 100/100 [00:07<00:00, 13.86it/s]\n  0%|          | 2/1000 [00:00<00:58, 16.94it/s]Starting sampling\n100%|██████████| 1000/1000 [00:52<00:00, 19.22it/s]\n"
    }
   ],
   "source": [
    "bart_pipeline.fit(X, y)\n",
    "y_pred_bart = bart_pipeline.predict(X)\n",
    "le_income_df[\"BART LE\"] = y_pred_bart"
   ]
  },
  {
   "cell_type": "code",
   "execution_count": 23,
   "metadata": {},
   "outputs": [
    {
     "output_type": "execute_result",
     "data": {
      "text/plain": "    Country Name  Life Expectancy 2017     p0p50    p50p90   p90p100  \\\n0         Angola             60.379000  0.130631  0.380834  0.488535   \n1        Albania             78.333000  0.209400  0.470900  0.319700   \n2        Austria             81.641463  0.234300  0.449100  0.316600   \n3        Burundi             60.898000  0.151344  0.371082  0.477574   \n4        Belgium             81.439024  0.205900  0.480100  0.313900   \n..           ...                   ...       ...       ...       ...   \n79      Tanzania             64.479000  0.153972  0.365047  0.480980   \n80        Uganda             62.516000  0.131229  0.353945  0.514826   \n81  South Africa             63.538000  0.062700  0.286500  0.650800   \n82        Zambia             63.043000  0.073127  0.311930  0.614943   \n83      Zimbabwe             60.812000  0.128644  0.364170  0.507186   \n\n     p99p100  Random Forest LE    BART LE  \n0   0.151751         60.491644  62.074536  \n1   0.082100         78.667501  79.928005  \n2   0.092700         81.858699  81.453081  \n3   0.145485         62.540133  64.728669  \n4   0.077700         81.509322  79.392117  \n..       ...               ...        ...  \n79  0.161714         66.102622  65.843226  \n80  0.168541         65.001578  64.636357  \n81  0.192100         61.426556  59.866869  \n82  0.230787         62.588289  60.660164  \n83  0.172057         61.258867  62.651157  \n\n[84 rows x 8 columns]",
      "text/html": "<div>\n<style scoped>\n    .dataframe tbody tr th:only-of-type {\n        vertical-align: middle;\n    }\n\n    .dataframe tbody tr th {\n        vertical-align: top;\n    }\n\n    .dataframe thead th {\n        text-align: right;\n    }\n</style>\n<table border=\"1\" class=\"dataframe\">\n  <thead>\n    <tr style=\"text-align: right;\">\n      <th></th>\n      <th>Country Name</th>\n      <th>Life Expectancy 2017</th>\n      <th>p0p50</th>\n      <th>p50p90</th>\n      <th>p90p100</th>\n      <th>p99p100</th>\n      <th>Random Forest LE</th>\n      <th>BART LE</th>\n    </tr>\n  </thead>\n  <tbody>\n    <tr>\n      <th>0</th>\n      <td>Angola</td>\n      <td>60.379000</td>\n      <td>0.130631</td>\n      <td>0.380834</td>\n      <td>0.488535</td>\n      <td>0.151751</td>\n      <td>60.491644</td>\n      <td>62.074536</td>\n    </tr>\n    <tr>\n      <th>1</th>\n      <td>Albania</td>\n      <td>78.333000</td>\n      <td>0.209400</td>\n      <td>0.470900</td>\n      <td>0.319700</td>\n      <td>0.082100</td>\n      <td>78.667501</td>\n      <td>79.928005</td>\n    </tr>\n    <tr>\n      <th>2</th>\n      <td>Austria</td>\n      <td>81.641463</td>\n      <td>0.234300</td>\n      <td>0.449100</td>\n      <td>0.316600</td>\n      <td>0.092700</td>\n      <td>81.858699</td>\n      <td>81.453081</td>\n    </tr>\n    <tr>\n      <th>3</th>\n      <td>Burundi</td>\n      <td>60.898000</td>\n      <td>0.151344</td>\n      <td>0.371082</td>\n      <td>0.477574</td>\n      <td>0.145485</td>\n      <td>62.540133</td>\n      <td>64.728669</td>\n    </tr>\n    <tr>\n      <th>4</th>\n      <td>Belgium</td>\n      <td>81.439024</td>\n      <td>0.205900</td>\n      <td>0.480100</td>\n      <td>0.313900</td>\n      <td>0.077700</td>\n      <td>81.509322</td>\n      <td>79.392117</td>\n    </tr>\n    <tr>\n      <th>...</th>\n      <td>...</td>\n      <td>...</td>\n      <td>...</td>\n      <td>...</td>\n      <td>...</td>\n      <td>...</td>\n      <td>...</td>\n      <td>...</td>\n    </tr>\n    <tr>\n      <th>79</th>\n      <td>Tanzania</td>\n      <td>64.479000</td>\n      <td>0.153972</td>\n      <td>0.365047</td>\n      <td>0.480980</td>\n      <td>0.161714</td>\n      <td>66.102622</td>\n      <td>65.843226</td>\n    </tr>\n    <tr>\n      <th>80</th>\n      <td>Uganda</td>\n      <td>62.516000</td>\n      <td>0.131229</td>\n      <td>0.353945</td>\n      <td>0.514826</td>\n      <td>0.168541</td>\n      <td>65.001578</td>\n      <td>64.636357</td>\n    </tr>\n    <tr>\n      <th>81</th>\n      <td>South Africa</td>\n      <td>63.538000</td>\n      <td>0.062700</td>\n      <td>0.286500</td>\n      <td>0.650800</td>\n      <td>0.192100</td>\n      <td>61.426556</td>\n      <td>59.866869</td>\n    </tr>\n    <tr>\n      <th>82</th>\n      <td>Zambia</td>\n      <td>63.043000</td>\n      <td>0.073127</td>\n      <td>0.311930</td>\n      <td>0.614943</td>\n      <td>0.230787</td>\n      <td>62.588289</td>\n      <td>60.660164</td>\n    </tr>\n    <tr>\n      <th>83</th>\n      <td>Zimbabwe</td>\n      <td>60.812000</td>\n      <td>0.128644</td>\n      <td>0.364170</td>\n      <td>0.507186</td>\n      <td>0.172057</td>\n      <td>61.258867</td>\n      <td>62.651157</td>\n    </tr>\n  </tbody>\n</table>\n<p>84 rows × 8 columns</p>\n</div>"
     },
     "metadata": {},
     "execution_count": 23
    }
   ],
   "source": [
    "le_income_df"
   ]
  },
  {
   "cell_type": "code",
   "execution_count": 41,
   "metadata": {},
   "outputs": [
    {
     "output_type": "stream",
     "name": "stderr",
     "text": "2%|▏         | 2/100 [00:00<00:08, 10.96it/s]Starting burn\n100%|██████████| 100/100 [00:06<00:00, 16.11it/s]\n  0%|          | 2/1000 [00:00<00:52, 19.04it/s]Starting sampling\n100%|██████████| 1000/1000 [00:49<00:00, 20.12it/s]\n"
    }
   ],
   "source": [
    "bart_pipeline = Pipeline(steps=[(\"model\", SklearnModel(n_burn = 100, n_chains = 1, n_jobs = 1, n_samples = 1000, n_trees = grid_search.best_params_[\"model__n_trees\"], store_in_sample_predictions = True))\n",
    "                               ])\n",
    "bart_pipeline.fit(X, y)\n",
    "y_pred_bart = bart_pipeline.predict(X)"
   ]
  },
  {
   "cell_type": "code",
   "execution_count": 44,
   "metadata": {},
   "outputs": [
    {
     "output_type": "execute_result",
     "data": {
      "text/plain": "array([62.67857274, 79.33139433, 81.31756437, 64.49738865, 79.65272567,\n       62.50621538, 65.70152363, 71.26761161, 78.97088639, 62.27887631,\n       59.98349042, 81.92279157, 60.32642067, 59.70482114, 63.25322567,\n       78.89303249, 80.56053448, 78.89303249, 62.86381457, 81.61350869,\n       75.18061033, 65.82358251, 80.19265242, 78.23896874, 65.82358251,\n       79.49456581, 80.53630902, 81.03749195, 65.29346377, 80.19265242,\n       62.67857274, 64.58215633, 62.11834382, 62.46024474, 78.01127968,\n       79.27143189, 77.42510508, 80.78075122, 81.83018795, 78.97088639,\n       64.49738865, 64.43951911, 65.80915616, 62.23231885, 77.527518  ,\n       80.39924456, 79.49456581, 66.8444121 , 78.97088639, 63.92224957,\n       68.2266175 , 81.33434573, 78.39629316, 60.26591058, 70.6660783 ,\n       65.70152363, 62.47833895, 60.43820891, 64.37568568, 60.70631667,\n       80.85832086, 80.68284546, 76.85619494, 78.09422991, 68.25522617,\n       64.24619757, 66.29137863, 65.35426649, 64.58215633, 64.41703428,\n       72.16192313, 60.14593681, 70.6660783 , 80.87385885, 81.35540309,\n       64.24619757, 61.73911853, 62.41695063, 68.2266175 , 67.19166925,\n       64.24619757, 59.98349042, 61.67925307, 62.90285616])"
     },
     "metadata": {},
     "execution_count": 44
    }
   ],
   "source": [
    "bart_pipeline.predict(None)"
   ]
  },
  {
   "cell_type": "code",
   "execution_count": 75,
   "metadata": {},
   "outputs": [
    {
     "output_type": "execute_result",
     "data": {
      "text/plain": "array([[62.76688031, 79.08223605, 81.32790135, ..., 60.06312764,\n        61.72394989, 63.06485657],\n       [62.55115875, 79.13213252, 81.49939828, ..., 59.97574512,\n        61.66224219, 62.78389068],\n       [62.72355719, 79.79398762, 81.59893292, ..., 60.04702361,\n        61.9938215 , 62.79940883],\n       ...,\n       [62.95811936, 79.59519071, 81.04135461, ..., 60.07972862,\n        61.98874664, 62.72495288],\n       [62.69632425, 79.31376382, 81.39564956, ..., 59.65835015,\n        61.75512283, 62.77869095],\n       [62.47087992, 79.5632348 , 81.26095032, ..., 59.76098342,\n        61.85533882, 62.8561231 ]])"
     },
     "metadata": {},
     "execution_count": 75
    }
   ],
   "source": [
    "# Thin is 10 so for 1000 samples, we can get 100 to calculate the error\n",
    "bart_pipeline[\"model\"].data.y.unnormalize_y(bart_pipeline[\"model\"]._prediction_samples)"
   ]
  },
  {
   "cell_type": "code",
   "execution_count": 95,
   "metadata": {},
   "outputs": [
    {
     "output_type": "execute_result",
     "data": {
      "text/plain": "array([0.17033517, 0.20093172, 0.21542585, 0.11859725, 0.20329531,\n       0.168604  , 0.1761632 , 0.2217806 , 0.17657382, 0.17645311,\n       0.25557541, 0.24427259, 0.25892102, 0.31844918, 0.20519722,\n       0.23130429, 0.28033278, 0.23130429, 0.21876647, 0.18922966,\n       0.24077065, 0.22888902, 0.2335799 , 0.19090243, 0.22888902,\n       0.20626436, 0.21393702, 0.20802572, 0.16933264, 0.2335799 ,\n       0.17033517, 0.30831607, 0.17508999, 0.16601717, 0.25729367,\n       0.20683134, 0.22873208, 0.22397738, 0.20687712, 0.17657382,\n       0.11859725, 0.23135403, 0.2066821 , 0.18052864, 0.20514612,\n       0.22353232, 0.20626436, 0.27536869, 0.17657382, 0.20436867,\n       0.23594473, 0.25719785, 0.21248913, 0.24579737, 0.20952409,\n       0.1761632 , 0.2429461 , 0.25653329, 0.23611076, 0.25980042,\n       0.2485891 , 0.26042453, 0.20210817, 0.25018737, 0.21256833,\n       0.23139622, 0.24595949, 0.14792622, 0.30831607, 0.21537483,\n       0.27063246, 0.3185973 , 0.20952409, 0.19644508, 0.19960351,\n       0.23139622, 0.21621688, 0.21787554, 0.23594473, 0.293521  ,\n       0.23139622, 0.25557541, 0.20674819, 0.20087465])"
     },
     "metadata": {},
     "execution_count": 95
    }
   ],
   "source": [
    "samples = bart_pipeline[\"model\"]._prediction_samples\n",
    "# should have self.prediction_samples() method but error in package where bartpy return self.prediction_samples instead of self._prediction_samples\n",
    "unnormalised_samples = bart_pipeline[\"model\"].data.y.unnormalize_y(samples)\n",
    "np.std(unnormalised_samples, axis = 0)"
   ]
  },
  {
   "cell_type": "code",
   "execution_count": 84,
   "metadata": {},
   "outputs": [
    {
     "output_type": "execute_result",
     "data": {
      "text/plain": "array([68.09155468, 68.12215124, 68.13664536, 68.03981676, 68.12451482,\n       68.08982351, 68.09738271, 68.14300011, 68.09779333, 68.09767262,\n       68.17679493, 68.16549211, 68.18014053, 68.23966869, 68.12641673,\n       68.1525238 , 68.20155229, 68.1525238 , 68.13998598, 68.11044917,\n       68.16199017, 68.15010853, 68.15479942, 68.11212194, 68.15010853,\n       68.12748387, 68.13515654, 68.12924523, 68.09055215, 68.15479942,\n       68.09155468, 68.22953559, 68.09630951, 68.08723668, 68.17851318,\n       68.12805086, 68.14995159, 68.1451969 , 68.12809663, 68.09779333,\n       68.03981676, 68.15257354, 68.12790161, 68.10174815, 68.12636563,\n       68.14475183, 68.12748387, 68.1965882 , 68.09779333, 68.12558818,\n       68.15716424, 68.17841737, 68.13370864, 68.16701689, 68.1307436 ,\n       68.09738271, 68.16416562, 68.1777528 , 68.15733027, 68.18101993,\n       68.16980862, 68.18164404, 68.12332769, 68.17140688, 68.13378784,\n       68.15261573, 68.167179  , 68.06914574, 68.22953559, 68.13659434,\n       68.19185197, 68.23981682, 68.1307436 , 68.11766459, 68.12082302,\n       68.15261573, 68.13743639, 68.13909505, 68.15716424, 68.21474051,\n       68.15261573, 68.17679493, 68.1279677 , 68.12209416])"
     },
     "metadata": {},
     "execution_count": 84
    }
   ],
   "source": [
    "bart_pipeline[\"model\"].data.y.unnormalize_y(np.std(bart_pipeline[\"model\"]._prediction_samples, axis=0))"
   ]
  },
  {
   "cell_type": "code",
   "execution_count": null,
   "metadata": {},
   "outputs": [],
   "source": []
  },
  {
   "cell_type": "code",
   "execution_count": 14,
   "metadata": {},
   "outputs": [
    {
     "output_type": "stream",
     "name": "stderr",
     "text": "11%|█         | 11/100 [00:00<00:00, 108.83it/s]Starting burn\n100%|██████████| 100/100 [00:00<00:00, 143.70it/s]\n  1%|          | 10/1000 [00:00<00:10, 98.46it/s]Starting sampling\n100%|██████████| 1000/1000 [00:06<00:00, 144.92it/s]\n 16%|█▌        | 16/100 [00:00<00:00, 158.22it/s]Starting burn\n100%|██████████| 100/100 [00:00<00:00, 173.01it/s]\n  2%|▏         | 15/1000 [00:00<00:06, 146.67it/s]Starting sampling\n100%|██████████| 1000/1000 [00:05<00:00, 178.66it/s]\n 15%|█▌        | 15/100 [00:00<00:00, 149.94it/s]Starting burn\n100%|██████████| 100/100 [00:00<00:00, 165.77it/s]\n  2%|▏         | 16/1000 [00:00<00:06, 155.24it/s]Starting sampling\n100%|██████████| 1000/1000 [00:05<00:00, 169.29it/s]\n 15%|█▌        | 15/100 [00:00<00:00, 146.69it/s]Starting burn\n100%|██████████| 100/100 [00:00<00:00, 166.62it/s]\n  1%|▏         | 14/1000 [00:00<00:07, 135.41it/s]Starting sampling\n100%|██████████| 1000/1000 [00:06<00:00, 159.72it/s]\n 12%|█▏        | 12/100 [00:00<00:00, 115.24it/s]Starting burn\n100%|██████████| 100/100 [00:00<00:00, 153.86it/s]\n  1%|▏         | 13/1000 [00:00<00:07, 126.30it/s]Starting sampling\n100%|██████████| 1000/1000 [00:05<00:00, 168.82it/s]MAE scores:\n [3.95513412 2.61100212 4.79070707 4.49624447 4.71767429]\nAverage MAE score (across experiments):\n4.114152413541102\n\n"
    }
   ],
   "source": [
    "scores = -1 * cross_val_score(bart_pipeline, X, y,\n",
    "                              cv = 5,\n",
    "                              scoring = \"neg_mean_absolute_error\")\n",
    "                              \n",
    "print(\"MAE scores:\\n\", scores)\n",
    "print(\"Average MAE score (across experiments):\")\n",
    "print(scores.mean())"
   ]
  }
 ]
}