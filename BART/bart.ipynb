{
 "nbformat": 4,
 "nbformat_minor": 2,
 "metadata": {
  "language_info": {
   "name": "python",
   "codemirror_mode": {
    "name": "ipython",
    "version": 3
   },
   "version": "3.7.4-final"
  },
  "orig_nbformat": 2,
  "file_extension": ".py",
  "mimetype": "text/x-python",
  "name": "python",
  "npconvert_exporter": "python",
  "pygments_lexer": "ipython3",
  "version": 3,
  "kernelspec": {
   "name": "python38264bitiexpcondae811882733694c1d94742e004f93530d",
   "display_name": "Python 3.8.2 64-bit ('i_exp': conda)"
  }
 },
 "cells": [
  {
   "cell_type": "markdown",
   "metadata": {},
   "source": [
    "<h1> BART for inequalities </h1>"
   ]
  },
  {
   "cell_type": "code",
   "execution_count": 36,
   "metadata": {},
   "outputs": [],
   "source": [
    "import os\n",
    "\n",
    "import pandas as pd"
   ]
  },
  {
   "cell_type": "markdown",
   "metadata": {},
   "source": [
    "<h2> Preprocessing </h2>"
   ]
  },
  {
   "cell_type": "markdown",
   "metadata": {},
   "source": [
    "Life expectancy for all countries from the World Bank"
   ]
  },
  {
   "cell_type": "code",
   "execution_count": 33,
   "metadata": {},
   "outputs": [
    {
     "output_type": "execute_result",
     "data": {
      "text/plain": "     Country Name  Life Expectancy 2017\n0           Aruba             76.010000\n1     Afghanistan             64.130000\n2          Angola             60.379000\n3         Albania             78.333000\n5      Arab World             71.622526\n..            ...                   ...\n259        Kosovo             71.946341\n260   Yemen, Rep.             66.086000\n261  South Africa             63.538000\n262        Zambia             63.043000\n263      Zimbabwe             60.812000\n\n[245 rows x 2 columns]",
      "text/html": "<div>\n<style scoped>\n    .dataframe tbody tr th:only-of-type {\n        vertical-align: middle;\n    }\n\n    .dataframe tbody tr th {\n        vertical-align: top;\n    }\n\n    .dataframe thead th {\n        text-align: right;\n    }\n</style>\n<table border=\"1\" class=\"dataframe\">\n  <thead>\n    <tr style=\"text-align: right;\">\n      <th></th>\n      <th>Country Name</th>\n      <th>Life Expectancy 2017</th>\n    </tr>\n  </thead>\n  <tbody>\n    <tr>\n      <th>0</th>\n      <td>Aruba</td>\n      <td>76.010000</td>\n    </tr>\n    <tr>\n      <th>1</th>\n      <td>Afghanistan</td>\n      <td>64.130000</td>\n    </tr>\n    <tr>\n      <th>2</th>\n      <td>Angola</td>\n      <td>60.379000</td>\n    </tr>\n    <tr>\n      <th>3</th>\n      <td>Albania</td>\n      <td>78.333000</td>\n    </tr>\n    <tr>\n      <th>5</th>\n      <td>Arab World</td>\n      <td>71.622526</td>\n    </tr>\n    <tr>\n      <th>...</th>\n      <td>...</td>\n      <td>...</td>\n    </tr>\n    <tr>\n      <th>259</th>\n      <td>Kosovo</td>\n      <td>71.946341</td>\n    </tr>\n    <tr>\n      <th>260</th>\n      <td>Yemen, Rep.</td>\n      <td>66.086000</td>\n    </tr>\n    <tr>\n      <th>261</th>\n      <td>South Africa</td>\n      <td>63.538000</td>\n    </tr>\n    <tr>\n      <th>262</th>\n      <td>Zambia</td>\n      <td>63.043000</td>\n    </tr>\n    <tr>\n      <th>263</th>\n      <td>Zimbabwe</td>\n      <td>60.812000</td>\n    </tr>\n  </tbody>\n</table>\n<p>245 rows × 2 columns</p>\n</div>"
     },
     "metadata": {},
     "execution_count": 33
    }
   ],
   "source": [
    "life_exp_df = pd.read_csv(\"wb_life_expectancy.csv\", skiprows = 4)\n",
    "life_exp_df = life_exp_df[[\"Country Name\", \"2017\"]]\n",
    "life_exp_df.rename(columns = {\"2017\":\"Life Expectancy 2017\"}, inplace=True)\n",
    "life_exp_df = life_exp_df.dropna()\n",
    "life_exp_df"
   ]
  },
  {
   "cell_type": "markdown",
   "metadata": {},
   "source": [
    "Income distribution for all countries and world regions from WID.world. The distribution is split into bottom 50 percent, 50-90 percent (middle class), top 10 percent and the top 1 percent share"
   ]
  },
  {
   "cell_type": "code",
   "execution_count": 31,
   "metadata": {},
   "outputs": [
    {
     "output_type": "execute_result",
     "data": {
      "text/plain": "percentile         p0p50    p50p90   p90p100   p99p100\nRegion Name                                           \nAfrica          0.088212  0.368794  0.542994  0.190221\nAlbania         0.209400  0.470900  0.319700  0.082100\nAlgeria         0.207066  0.420077  0.372856  0.097033\nAngola          0.130631  0.380834  0.488535  0.151751\nAustria         0.234300  0.449100  0.316600  0.092700\n...                  ...       ...       ...       ...\nUnited Kingdom  0.206100  0.439300  0.354600  0.126100\nWestern Africa  0.116490  0.375802  0.507708  0.164721\nZambia          0.073127  0.311930  0.614943  0.230787\nZanzibar        0.154000  0.365000  0.481000  0.161700\nZimbabwe        0.128644  0.364170  0.507186  0.172057\n\n[100 rows x 4 columns]",
      "text/html": "<div>\n<style scoped>\n    .dataframe tbody tr th:only-of-type {\n        vertical-align: middle;\n    }\n\n    .dataframe tbody tr th {\n        vertical-align: top;\n    }\n\n    .dataframe thead th {\n        text-align: right;\n    }\n</style>\n<table border=\"1\" class=\"dataframe\">\n  <thead>\n    <tr style=\"text-align: right;\">\n      <th>percentile</th>\n      <th>p0p50</th>\n      <th>p50p90</th>\n      <th>p90p100</th>\n      <th>p99p100</th>\n    </tr>\n    <tr>\n      <th>Region Name</th>\n      <th></th>\n      <th></th>\n      <th></th>\n      <th></th>\n    </tr>\n  </thead>\n  <tbody>\n    <tr>\n      <th>Africa</th>\n      <td>0.088212</td>\n      <td>0.368794</td>\n      <td>0.542994</td>\n      <td>0.190221</td>\n    </tr>\n    <tr>\n      <th>Albania</th>\n      <td>0.209400</td>\n      <td>0.470900</td>\n      <td>0.319700</td>\n      <td>0.082100</td>\n    </tr>\n    <tr>\n      <th>Algeria</th>\n      <td>0.207066</td>\n      <td>0.420077</td>\n      <td>0.372856</td>\n      <td>0.097033</td>\n    </tr>\n    <tr>\n      <th>Angola</th>\n      <td>0.130631</td>\n      <td>0.380834</td>\n      <td>0.488535</td>\n      <td>0.151751</td>\n    </tr>\n    <tr>\n      <th>Austria</th>\n      <td>0.234300</td>\n      <td>0.449100</td>\n      <td>0.316600</td>\n      <td>0.092700</td>\n    </tr>\n    <tr>\n      <th>...</th>\n      <td>...</td>\n      <td>...</td>\n      <td>...</td>\n      <td>...</td>\n    </tr>\n    <tr>\n      <th>United Kingdom</th>\n      <td>0.206100</td>\n      <td>0.439300</td>\n      <td>0.354600</td>\n      <td>0.126100</td>\n    </tr>\n    <tr>\n      <th>Western Africa</th>\n      <td>0.116490</td>\n      <td>0.375802</td>\n      <td>0.507708</td>\n      <td>0.164721</td>\n    </tr>\n    <tr>\n      <th>Zambia</th>\n      <td>0.073127</td>\n      <td>0.311930</td>\n      <td>0.614943</td>\n      <td>0.230787</td>\n    </tr>\n    <tr>\n      <th>Zanzibar</th>\n      <td>0.154000</td>\n      <td>0.365000</td>\n      <td>0.481000</td>\n      <td>0.161700</td>\n    </tr>\n    <tr>\n      <th>Zimbabwe</th>\n      <td>0.128644</td>\n      <td>0.364170</td>\n      <td>0.507186</td>\n      <td>0.172057</td>\n    </tr>\n  </tbody>\n</table>\n<p>100 rows × 4 columns</p>\n</div>"
     },
     "metadata": {},
     "execution_count": 31
    }
   ],
   "source": [
    "income_df = pd.read_csv(\"wid_income_dist.csv\", skiprows = 1, sep = \";\", header = None)\n",
    "income_df = income_df[[0, 2, 4]]\n",
    "income_df.columns = [\"Region Name\", \"percentile\", \"Income Share\"]\n",
    "income_df = income_df.dropna() # Only keep regions with all 4 parts of the income distribution\n",
    "income_df = income_df.pivot(index='Region Name', columns='percentile')['Income Share'] # reshape, col per share\n",
    "income_df"
   ]
  },
  {
   "cell_type": "code",
   "execution_count": 23,
   "metadata": {},
   "outputs": [
    {
     "output_type": "execute_result",
     "data": {
      "text/plain": "    Region Name percentile  Income Share\n0        Africa    p90p100      0.542994\n1        Africa     p50p90      0.368794\n2        Africa      p0p50      0.088212\n3        Africa    p99p100      0.190221\n12      Albania    p90p100      0.319700\n..          ...        ...           ...\n835    Zanzibar    p99p100      0.161700\n836    Zimbabwe    p90p100      0.507186\n837    Zimbabwe     p50p90      0.364170\n838    Zimbabwe      p0p50      0.128644\n839    Zimbabwe    p99p100      0.172057\n\n[400 rows x 3 columns]",
      "text/html": "<div>\n<style scoped>\n    .dataframe tbody tr th:only-of-type {\n        vertical-align: middle;\n    }\n\n    .dataframe tbody tr th {\n        vertical-align: top;\n    }\n\n    .dataframe thead th {\n        text-align: right;\n    }\n</style>\n<table border=\"1\" class=\"dataframe\">\n  <thead>\n    <tr style=\"text-align: right;\">\n      <th></th>\n      <th>Region Name</th>\n      <th>percentile</th>\n      <th>Income Share</th>\n    </tr>\n  </thead>\n  <tbody>\n    <tr>\n      <th>0</th>\n      <td>Africa</td>\n      <td>p90p100</td>\n      <td>0.542994</td>\n    </tr>\n    <tr>\n      <th>1</th>\n      <td>Africa</td>\n      <td>p50p90</td>\n      <td>0.368794</td>\n    </tr>\n    <tr>\n      <th>2</th>\n      <td>Africa</td>\n      <td>p0p50</td>\n      <td>0.088212</td>\n    </tr>\n    <tr>\n      <th>3</th>\n      <td>Africa</td>\n      <td>p99p100</td>\n      <td>0.190221</td>\n    </tr>\n    <tr>\n      <th>12</th>\n      <td>Albania</td>\n      <td>p90p100</td>\n      <td>0.319700</td>\n    </tr>\n    <tr>\n      <th>...</th>\n      <td>...</td>\n      <td>...</td>\n      <td>...</td>\n    </tr>\n    <tr>\n      <th>835</th>\n      <td>Zanzibar</td>\n      <td>p99p100</td>\n      <td>0.161700</td>\n    </tr>\n    <tr>\n      <th>836</th>\n      <td>Zimbabwe</td>\n      <td>p90p100</td>\n      <td>0.507186</td>\n    </tr>\n    <tr>\n      <th>837</th>\n      <td>Zimbabwe</td>\n      <td>p50p90</td>\n      <td>0.364170</td>\n    </tr>\n    <tr>\n      <th>838</th>\n      <td>Zimbabwe</td>\n      <td>p0p50</td>\n      <td>0.128644</td>\n    </tr>\n    <tr>\n      <th>839</th>\n      <td>Zimbabwe</td>\n      <td>p99p100</td>\n      <td>0.172057</td>\n    </tr>\n  </tbody>\n</table>\n<p>400 rows × 3 columns</p>\n</div>"
     },
     "metadata": {},
     "execution_count": 23
    }
   ],
   "source": [
    "income_df.dropna()"
   ]
  },
  {
   "cell_type": "markdown",
   "metadata": {},
   "source": [
    "Merge the life expectancy and income dataframes on country"
   ]
  },
  {
   "cell_type": "code",
   "execution_count": 34,
   "metadata": {},
   "outputs": [
    {
     "output_type": "execute_result",
     "data": {
      "text/plain": "    Country Name  Life Expectancy 2017     p0p50    p50p90   p90p100   p99p100\n0         Angola             60.379000  0.130631  0.380834  0.488535  0.151751\n1        Albania             78.333000  0.209400  0.470900  0.319700  0.082100\n2        Austria             81.641463  0.234300  0.449100  0.316600  0.092700\n3        Burundi             60.898000  0.151344  0.371082  0.477574  0.145485\n4        Belgium             81.439024  0.205900  0.480100  0.313900  0.077700\n..           ...                   ...       ...       ...       ...       ...\n79      Tanzania             64.479000  0.153972  0.365047  0.480980  0.161714\n80        Uganda             62.516000  0.131229  0.353945  0.514826  0.168541\n81  South Africa             63.538000  0.062700  0.286500  0.650800  0.192100\n82        Zambia             63.043000  0.073127  0.311930  0.614943  0.230787\n83      Zimbabwe             60.812000  0.128644  0.364170  0.507186  0.172057\n\n[84 rows x 6 columns]",
      "text/html": "<div>\n<style scoped>\n    .dataframe tbody tr th:only-of-type {\n        vertical-align: middle;\n    }\n\n    .dataframe tbody tr th {\n        vertical-align: top;\n    }\n\n    .dataframe thead th {\n        text-align: right;\n    }\n</style>\n<table border=\"1\" class=\"dataframe\">\n  <thead>\n    <tr style=\"text-align: right;\">\n      <th></th>\n      <th>Country Name</th>\n      <th>Life Expectancy 2017</th>\n      <th>p0p50</th>\n      <th>p50p90</th>\n      <th>p90p100</th>\n      <th>p99p100</th>\n    </tr>\n  </thead>\n  <tbody>\n    <tr>\n      <th>0</th>\n      <td>Angola</td>\n      <td>60.379000</td>\n      <td>0.130631</td>\n      <td>0.380834</td>\n      <td>0.488535</td>\n      <td>0.151751</td>\n    </tr>\n    <tr>\n      <th>1</th>\n      <td>Albania</td>\n      <td>78.333000</td>\n      <td>0.209400</td>\n      <td>0.470900</td>\n      <td>0.319700</td>\n      <td>0.082100</td>\n    </tr>\n    <tr>\n      <th>2</th>\n      <td>Austria</td>\n      <td>81.641463</td>\n      <td>0.234300</td>\n      <td>0.449100</td>\n      <td>0.316600</td>\n      <td>0.092700</td>\n    </tr>\n    <tr>\n      <th>3</th>\n      <td>Burundi</td>\n      <td>60.898000</td>\n      <td>0.151344</td>\n      <td>0.371082</td>\n      <td>0.477574</td>\n      <td>0.145485</td>\n    </tr>\n    <tr>\n      <th>4</th>\n      <td>Belgium</td>\n      <td>81.439024</td>\n      <td>0.205900</td>\n      <td>0.480100</td>\n      <td>0.313900</td>\n      <td>0.077700</td>\n    </tr>\n    <tr>\n      <th>...</th>\n      <td>...</td>\n      <td>...</td>\n      <td>...</td>\n      <td>...</td>\n      <td>...</td>\n      <td>...</td>\n    </tr>\n    <tr>\n      <th>79</th>\n      <td>Tanzania</td>\n      <td>64.479000</td>\n      <td>0.153972</td>\n      <td>0.365047</td>\n      <td>0.480980</td>\n      <td>0.161714</td>\n    </tr>\n    <tr>\n      <th>80</th>\n      <td>Uganda</td>\n      <td>62.516000</td>\n      <td>0.131229</td>\n      <td>0.353945</td>\n      <td>0.514826</td>\n      <td>0.168541</td>\n    </tr>\n    <tr>\n      <th>81</th>\n      <td>South Africa</td>\n      <td>63.538000</td>\n      <td>0.062700</td>\n      <td>0.286500</td>\n      <td>0.650800</td>\n      <td>0.192100</td>\n    </tr>\n    <tr>\n      <th>82</th>\n      <td>Zambia</td>\n      <td>63.043000</td>\n      <td>0.073127</td>\n      <td>0.311930</td>\n      <td>0.614943</td>\n      <td>0.230787</td>\n    </tr>\n    <tr>\n      <th>83</th>\n      <td>Zimbabwe</td>\n      <td>60.812000</td>\n      <td>0.128644</td>\n      <td>0.364170</td>\n      <td>0.507186</td>\n      <td>0.172057</td>\n    </tr>\n  </tbody>\n</table>\n<p>84 rows × 6 columns</p>\n</div>"
     },
     "metadata": {},
     "execution_count": 34
    }
   ],
   "source": [
    "le_income_df = life_exp_df.merge(income_df, left_on = \"Country Name\", right_on = \"Region Name\")\n",
    "le_income_df"
   ]
  },
  {
   "cell_type": "code",
   "execution_count": 42,
   "metadata": {},
   "outputs": [],
   "source": [
    "X = le_income_df[[\"p0p50\", \"p50p90\", \"p90p100\", \"p99p100\"]]\n",
    "y = le_income_df[[\"Life Expectancy 2017\"]]"
   ]
  },
  {
   "cell_type": "markdown",
   "metadata": {},
   "source": [
    "<h2> Random Forest implementation </h2>"
   ]
  },
  {
   "cell_type": "code",
   "execution_count": 48,
   "metadata": {},
   "outputs": [],
   "source": [
    "from sklearn.ensemble import RandomForestRegressor\n",
    "from sklearn.pipeline import Pipeline\n",
    "rf_pipeline = Pipeline(steps=[(\"model\", RandomForestRegressor(n_estimators = 50, random_state = 0))\n",
    "                             ])"
   ]
  },
  {
   "cell_type": "code",
   "execution_count": 51,
   "metadata": {},
   "outputs": [
    {
     "output_type": "stream",
     "name": "stdout",
     "text": "MAE scores:\n [3.79270005 2.72457212 5.30532131 3.46914154 4.39436878]\nAverage MAE score (across experiments):\n3.937220760162539\n"
    }
   ],
   "source": [
    "from sklearn.model_selection import cross_val_score\n",
    "# Multiply by -1 since sklearn calculates *negative* MAE\n",
    "scores = -1 * cross_val_score(rf_pipeline, X, y,\n",
    "                              cv = 5,\n",
    "                              scoring = \"neg_mean_absolute_error\")\n",
    "\n",
    "print(\"MAE scores:\\n\", scores)\n",
    "print(\"Average MAE score (across experiments):\")\n",
    "print(scores.mean())"
   ]
  },
  {
   "cell_type": "markdown",
   "metadata": {},
   "source": [
    "<h2> XBART implementation </h2>"
   ]
  },
  {
   "cell_type": "code",
   "execution_count": 55,
   "metadata": {},
   "outputs": [],
   "source": [
    "from xbart import XBART\n",
    "xbt_pipeline = Pipeline(steps=[(\"model\", XBART(num_trees = 10, num_sweeps = 10, burnin = 0))\n",
    "                             ])"
   ]
  },
  {
   "cell_type": "code",
   "execution_count": 56,
   "metadata": {},
   "outputs": [
    {
     "output_type": "stream",
     "name": "stdout",
     "text": "MAE scores:\n [nan nan nan nan nan]\nAverage MAE score (across experiments):\nnan\n"
    }
   ],
   "source": [
    "scores = -1 * cross_val_score(xbt_pipeline, X, y,\n",
    "                              cv = 5,\n",
    "                              scoring = \"neg_mean_absolute_error\")\n",
    "\n",
    "print(\"MAE scores:\\n\", scores)\n",
    "print(\"Average MAE score (across experiments):\")\n",
    "print(scores.mean())"
   ]
  },
  {
   "cell_type": "code",
   "execution_count": 61,
   "metadata": {},
   "outputs": [],
   "source": [
    "from sklearn.model_selection import train_test_split\n",
    "train, test = train_test_split(le_income_df, test_size = 0.2)\n",
    "\n",
    "X_train = train[[\"p0p50\", \"p50p90\", \"p90p100\", \"p99p100\"]]\n",
    "y_train = train[[\"Life Expectancy 2017\"]]\n",
    "\n",
    "X_test = test[[\"p0p50\", \"p50p90\", \"p90p100\", \"p99p100\"]]\n",
    "y_test = test[[\"Life Expectancy 2017\"]]"
   ]
  },
  {
   "cell_type": "code",
   "execution_count": 62,
   "metadata": {},
   "outputs": [
    {
     "output_type": "error",
     "ename": "TypeError",
     "evalue": "y must be numpy array or pandas Series",
     "traceback": [
      "\u001b[0;31m---------------------------------------------------------------------------\u001b[0m",
      "\u001b[0;31mTypeError\u001b[0m                                 Traceback (most recent call last)",
      "\u001b[0;32m<ipython-input-62-733d50861604>\u001b[0m in \u001b[0;36m<module>\u001b[0;34m\u001b[0m\n\u001b[1;32m      1\u001b[0m \u001b[0mxbt\u001b[0m \u001b[0;34m=\u001b[0m \u001b[0mXBART\u001b[0m\u001b[0;34m(\u001b[0m\u001b[0mnum_trees\u001b[0m \u001b[0;34m=\u001b[0m \u001b[0;36m100\u001b[0m\u001b[0;34m,\u001b[0m \u001b[0mnum_sweeps\u001b[0m \u001b[0;34m=\u001b[0m \u001b[0;36m40\u001b[0m\u001b[0;34m,\u001b[0m \u001b[0mburnin\u001b[0m \u001b[0;34m=\u001b[0m \u001b[0;36m15\u001b[0m\u001b[0;34m)\u001b[0m\u001b[0;34m\u001b[0m\u001b[0;34m\u001b[0m\u001b[0m\n\u001b[0;32m----> 2\u001b[0;31m \u001b[0mxbt\u001b[0m\u001b[0;34m.\u001b[0m\u001b[0mfit\u001b[0m\u001b[0;34m(\u001b[0m\u001b[0mX_train\u001b[0m\u001b[0;34m,\u001b[0m\u001b[0my_train\u001b[0m\u001b[0;34m)\u001b[0m\u001b[0;34m\u001b[0m\u001b[0;34m\u001b[0m\u001b[0m\n\u001b[0m\u001b[1;32m      3\u001b[0m \u001b[0mxbart_yhat_matrix\u001b[0m \u001b[0;34m=\u001b[0m \u001b[0mxbt\u001b[0m\u001b[0;34m.\u001b[0m\u001b[0mpredict\u001b[0m\u001b[0;34m(\u001b[0m\u001b[0mX_test\u001b[0m\u001b[0;34m)\u001b[0m  \u001b[0;31m# Return n X num_sweeps matrix\u001b[0m\u001b[0;34m\u001b[0m\u001b[0;34m\u001b[0m\u001b[0m\n\u001b[1;32m      4\u001b[0m \u001b[0my_hat\u001b[0m \u001b[0;34m=\u001b[0m \u001b[0mxbart_yhat_matrix\u001b[0m\u001b[0;34m[\u001b[0m\u001b[0;34m:\u001b[0m\u001b[0;34m,\u001b[0m\u001b[0;36m15\u001b[0m\u001b[0;34m:\u001b[0m\u001b[0;34m]\u001b[0m\u001b[0;34m.\u001b[0m\u001b[0mmean\u001b[0m\u001b[0;34m(\u001b[0m\u001b[0maxis\u001b[0m\u001b[0;34m=\u001b[0m\u001b[0;36m1\u001b[0m\u001b[0;34m)\u001b[0m \u001b[0;31m# Use mean a prediction estimate\u001b[0m\u001b[0;34m\u001b[0m\u001b[0;34m\u001b[0m\u001b[0m\n",
      "\u001b[0;32m~/opt/anaconda3/envs/i_exp/lib/python3.8/site-packages/xbart/xbart_python.py\u001b[0m in \u001b[0;36mfit\u001b[0;34m(self, x, y, p_cat)\u001b[0m\n\u001b[1;32m    244\u001b[0m \u001b[0;34m\u001b[0m\u001b[0m\n\u001b[1;32m    245\u001b[0m                 \u001b[0;31m# Check inputs #\u001b[0m\u001b[0;34m\u001b[0m\u001b[0;34m\u001b[0m\u001b[0;34m\u001b[0m\u001b[0m\n\u001b[0;32m--> 246\u001b[0;31m                 \u001b[0mself\u001b[0m\u001b[0;34m.\u001b[0m\u001b[0m__check_input_type\u001b[0m\u001b[0;34m(\u001b[0m\u001b[0mx\u001b[0m\u001b[0;34m,\u001b[0m\u001b[0my\u001b[0m\u001b[0;34m)\u001b[0m\u001b[0;34m\u001b[0m\u001b[0;34m\u001b[0m\u001b[0m\n\u001b[0m\u001b[1;32m    247\u001b[0m                 \u001b[0mself\u001b[0m\u001b[0;34m.\u001b[0m\u001b[0m__add_columns\u001b[0m\u001b[0;34m(\u001b[0m\u001b[0mx\u001b[0m\u001b[0;34m)\u001b[0m\u001b[0;34m\u001b[0m\u001b[0;34m\u001b[0m\u001b[0m\n\u001b[1;32m    248\u001b[0m                 \u001b[0mfit_x\u001b[0m \u001b[0;34m=\u001b[0m \u001b[0mx\u001b[0m\u001b[0;34m\u001b[0m\u001b[0;34m\u001b[0m\u001b[0m\n",
      "\u001b[0;32m~/opt/anaconda3/envs/i_exp/lib/python3.8/site-packages/xbart/xbart_python.py\u001b[0m in \u001b[0;36m__check_input_type\u001b[0;34m(self, x, y)\u001b[0m\n\u001b[1;32m    140\u001b[0m                 \u001b[0;32mif\u001b[0m \u001b[0my\u001b[0m \u001b[0;32mis\u001b[0m \u001b[0;32mnot\u001b[0m \u001b[0;32mNone\u001b[0m\u001b[0;34m:\u001b[0m\u001b[0;34m\u001b[0m\u001b[0;34m\u001b[0m\u001b[0m\n\u001b[1;32m    141\u001b[0m                         \u001b[0;32mif\u001b[0m \u001b[0;32mnot\u001b[0m \u001b[0misinstance\u001b[0m\u001b[0;34m(\u001b[0m\u001b[0my\u001b[0m\u001b[0;34m,\u001b[0m\u001b[0;34m(\u001b[0m\u001b[0mnp\u001b[0m\u001b[0;34m.\u001b[0m\u001b[0mndarray\u001b[0m\u001b[0;34m,\u001b[0m\u001b[0mSeries\u001b[0m\u001b[0;34m)\u001b[0m\u001b[0;34m)\u001b[0m\u001b[0;34m:\u001b[0m\u001b[0;34m\u001b[0m\u001b[0;34m\u001b[0m\u001b[0m\n\u001b[0;32m--> 142\u001b[0;31m                                 \u001b[0;32mraise\u001b[0m \u001b[0mTypeError\u001b[0m\u001b[0;34m(\u001b[0m\u001b[0;34m\"y must be numpy array or pandas Series\"\u001b[0m\u001b[0;34m)\u001b[0m\u001b[0;34m\u001b[0m\u001b[0;34m\u001b[0m\u001b[0m\n\u001b[0m\u001b[1;32m    143\u001b[0m \u001b[0;34m\u001b[0m\u001b[0m\n\u001b[1;32m    144\u001b[0m                         \u001b[0;32mif\u001b[0m \u001b[0mnp\u001b[0m\u001b[0;34m.\u001b[0m\u001b[0many\u001b[0m\u001b[0;34m(\u001b[0m\u001b[0mnp\u001b[0m\u001b[0;34m.\u001b[0m\u001b[0misnan\u001b[0m\u001b[0;34m(\u001b[0m\u001b[0my\u001b[0m\u001b[0;34m)\u001b[0m\u001b[0;34m)\u001b[0m\u001b[0;34m:\u001b[0m\u001b[0;34m\u001b[0m\u001b[0;34m\u001b[0m\u001b[0m\n",
      "\u001b[0;31mTypeError\u001b[0m: y must be numpy array or pandas Series"
     ]
    }
   ],
   "source": [
    "\n",
    "xbt = XBART(num_trees = 100, num_sweeps = 40, burnin = 15)\n",
    "xbt.fit(X_train,y_train)\n",
    "xbart_yhat_matrix = xbt.predict(X_test)  # Return n X num_sweeps matrix\n",
    "y_hat = xbart_yhat_matrix[:,15:].mean(axis=1) # Use mean a prediction estimate"
   ]
  },
  {
   "cell_type": "code",
   "execution_count": 63,
   "metadata": {},
   "outputs": [
    {
     "output_type": "error",
     "ename": "ModuleNotFoundError",
     "evalue": "No module named 'bartpy'",
     "traceback": [
      "\u001b[0;31m---------------------------------------------------------------------------\u001b[0m",
      "\u001b[0;31mModuleNotFoundError\u001b[0m                       Traceback (most recent call last)",
      "\u001b[0;32m<ipython-input-63-5c07c384d35b>\u001b[0m in \u001b[0;36m<module>\u001b[0;34m\u001b[0m\n\u001b[0;32m----> 1\u001b[0;31m \u001b[0;32mfrom\u001b[0m \u001b[0mbartpy\u001b[0m\u001b[0;34m.\u001b[0m\u001b[0msklearnmodel\u001b[0m \u001b[0;32mimport\u001b[0m \u001b[0mSklearnModel\u001b[0m\u001b[0;34m\u001b[0m\u001b[0;34m\u001b[0m\u001b[0m\n\u001b[0m",
      "\u001b[0;31mModuleNotFoundError\u001b[0m: No module named 'bartpy'"
     ]
    }
   ],
   "source": [
    "from bartpy.sklearnmodel import SklearnModel"
   ]
  },
  {
   "cell_type": "code",
   "execution_count": null,
   "metadata": {},
   "outputs": [],
   "source": []
  }
 ]
}